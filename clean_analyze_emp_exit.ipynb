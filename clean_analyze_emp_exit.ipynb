{
 "cells": [
  {
   "cell_type": "markdown",
   "metadata": {},
   "source": [
    "\n",
    "# Clean And Analyze Employee Exit Surveys\n",
    "\n",
    "In this project we are going to clean and analyze surveys from employees of the Department of Education, Training and Employment (DETE) and the Technical and Further Education (TAFE) institute in Queensland, Australia. Data sets provided for both of them in the project directory\n",
    "\n",
    "There is two main question that we are going to answer:\n",
    "\n",
    "1- Are employees who only worked for the institutes for a short period of time resigning due to some kind of dissatisfaction? What about employees who have been there longer?\n",
    "\n",
    "2- Are younger employees resigning due to some kind of dissatisfaction? What about older employees?\n",
    "\n",
    "They want us to answer these question for both of data sets combined.\n",
    "\n",
    "## Opening and viewing data set \n",
    "\n",
    "We first start by importing essential libraries and opening the data set  \n",
    "\n",
    "Then we are going to explore the data set by showing first 2 rows for each data sets and print information about them and also explore missing data counts in separate cells\n"
   ]
  },
  {
   "cell_type": "code",
   "execution_count": 1,
   "metadata": {},
   "outputs": [],
   "source": [
    "import pandas as pd\n",
    "import numpy as np\n",
    "\n",
    "dete_survey = pd.read_csv(\"dete_survey.csv\")\n",
    "tafe_survey = pd.read_csv(\"tafe_survey.csv\")\n",
    "%matplotlib inline\n"
   ]
  },
  {
   "cell_type": "markdown",
   "metadata": {},
   "source": [
    "For dete_survey data set:\n"
   ]
  },
  {
   "cell_type": "code",
   "execution_count": 2,
   "metadata": {},
   "outputs": [
    {
     "name": "stdout",
     "output_type": "stream",
     "text": [
      "   ID                    SeparationType Cease Date DETE Start Date  \\\n",
      "0   1             Ill Health Retirement    08/2012            1984   \n",
      "1   2  Voluntary Early Retirement (VER)    08/2012      Not Stated   \n",
      "\n",
      "  Role Start Date        Position Classification          Region  \\\n",
      "0            2004  Public Servant        A01-A04  Central Office   \n",
      "1      Not Stated  Public Servant        AO5-AO7  Central Office   \n",
      "\n",
      "                       Business Unit    Employment Status  ...  Kept informed  \\\n",
      "0  Corporate Strategy and Peformance  Permanent Full-time  ...              N   \n",
      "1  Corporate Strategy and Peformance  Permanent Full-time  ...              N   \n",
      "\n",
      "   Wellness programs  Health & Safety  Gender    Age  Aboriginal  \\\n",
      "0                  N                N    Male  56-60         NaN   \n",
      "1                  N                N    Male  56-60         NaN   \n",
      "\n",
      "   Torres Strait  South Sea  Disability  NESB  \n",
      "0            NaN        NaN         NaN   Yes  \n",
      "1            NaN        NaN         NaN   NaN  \n",
      "\n",
      "[2 rows x 56 columns]\n",
      "ID                                       0\n",
      "SeparationType                           0\n",
      "Cease Date                               0\n",
      "DETE Start Date                          0\n",
      "Role Start Date                          0\n",
      "Position                                 5\n",
      "Classification                         367\n",
      "Region                                   0\n",
      "Business Unit                          696\n",
      "Employment Status                        5\n",
      "Career move to public sector             0\n",
      "Career move to private sector            0\n",
      "Interpersonal conflicts                  0\n",
      "Job dissatisfaction                      0\n",
      "Dissatisfaction with the department      0\n",
      "Physical work environment                0\n",
      "Lack of recognition                      0\n",
      "Lack of job security                     0\n",
      "Work location                            0\n",
      "Employment conditions                    0\n",
      "Maternity/family                         0\n",
      "Relocation                               0\n",
      "Study/Travel                             0\n",
      "Ill Health                               0\n",
      "Traumatic incident                       0\n",
      "Work life balance                        0\n",
      "Workload                                 0\n",
      "None of the above                        0\n",
      "Professional Development                14\n",
      "Opportunities for promotion             87\n",
      "Staff morale                             6\n",
      "Workplace issue                         34\n",
      "Physical environment                     5\n",
      "Worklife balance                         7\n",
      "Stress and pressure support             12\n",
      "Performance of supervisor                9\n",
      "Peer support                            10\n",
      "Initiative                               9\n",
      "Skills                                  11\n",
      "Coach                                   55\n",
      "Career Aspirations                      76\n",
      "Feedback                                30\n",
      "Further PD                              54\n",
      "Communication                            8\n",
      "My say                                  10\n",
      "Information                              6\n",
      "Kept informed                            9\n",
      "Wellness programs                       56\n",
      "Health & Safety                         29\n",
      "Gender                                  24\n",
      "Age                                     11\n",
      "Aboriginal                             806\n",
      "Torres Strait                          819\n",
      "South Sea                              815\n",
      "Disability                             799\n",
      "NESB                                   790\n",
      "dtype: int64\n",
      "<class 'pandas.core.frame.DataFrame'>\n",
      "RangeIndex: 822 entries, 0 to 821\n",
      "Data columns (total 56 columns):\n",
      "ID                                     822 non-null int64\n",
      "SeparationType                         822 non-null object\n",
      "Cease Date                             822 non-null object\n",
      "DETE Start Date                        822 non-null object\n",
      "Role Start Date                        822 non-null object\n",
      "Position                               817 non-null object\n",
      "Classification                         455 non-null object\n",
      "Region                                 822 non-null object\n",
      "Business Unit                          126 non-null object\n",
      "Employment Status                      817 non-null object\n",
      "Career move to public sector           822 non-null bool\n",
      "Career move to private sector          822 non-null bool\n",
      "Interpersonal conflicts                822 non-null bool\n",
      "Job dissatisfaction                    822 non-null bool\n",
      "Dissatisfaction with the department    822 non-null bool\n",
      "Physical work environment              822 non-null bool\n",
      "Lack of recognition                    822 non-null bool\n",
      "Lack of job security                   822 non-null bool\n",
      "Work location                          822 non-null bool\n",
      "Employment conditions                  822 non-null bool\n",
      "Maternity/family                       822 non-null bool\n",
      "Relocation                             822 non-null bool\n",
      "Study/Travel                           822 non-null bool\n",
      "Ill Health                             822 non-null bool\n",
      "Traumatic incident                     822 non-null bool\n",
      "Work life balance                      822 non-null bool\n",
      "Workload                               822 non-null bool\n",
      "None of the above                      822 non-null bool\n",
      "Professional Development               808 non-null object\n",
      "Opportunities for promotion            735 non-null object\n",
      "Staff morale                           816 non-null object\n",
      "Workplace issue                        788 non-null object\n",
      "Physical environment                   817 non-null object\n",
      "Worklife balance                       815 non-null object\n",
      "Stress and pressure support            810 non-null object\n",
      "Performance of supervisor              813 non-null object\n",
      "Peer support                           812 non-null object\n",
      "Initiative                             813 non-null object\n",
      "Skills                                 811 non-null object\n",
      "Coach                                  767 non-null object\n",
      "Career Aspirations                     746 non-null object\n",
      "Feedback                               792 non-null object\n",
      "Further PD                             768 non-null object\n",
      "Communication                          814 non-null object\n",
      "My say                                 812 non-null object\n",
      "Information                            816 non-null object\n",
      "Kept informed                          813 non-null object\n",
      "Wellness programs                      766 non-null object\n",
      "Health & Safety                        793 non-null object\n",
      "Gender                                 798 non-null object\n",
      "Age                                    811 non-null object\n",
      "Aboriginal                             16 non-null object\n",
      "Torres Strait                          3 non-null object\n",
      "South Sea                              7 non-null object\n",
      "Disability                             23 non-null object\n",
      "NESB                                   32 non-null object\n",
      "dtypes: bool(18), int64(1), object(37)\n",
      "memory usage: 258.6+ KB\n"
     ]
    }
   ],
   "source": [
    "print(dete_survey.head(2))\n",
    "print(dete_survey.isnull().sum())\n",
    "dete_survey.info()"
   ]
  },
  {
   "cell_type": "markdown",
   "metadata": {},
   "source": [
    "As we can see in blow the data set have 822 rows and 56 columns. Some columns have a lot of missing values like:\n",
    "\n",
    "`Business Unit`                              \n",
    "`Aboriginal`                       \n",
    "`Torres Strait`                         \n",
    "`South Sea`                             \n",
    "`Disability`                             \n",
    "`NESB`                                   \n",
    "\n",
    "Also this data set contains 'Not Stated' values that indicate values are missing, but they aren't represented as Nan.\n",
    "\n",
    "Let's do the same for tafe_survey data set\n"
   ]
  },
  {
   "cell_type": "code",
   "execution_count": 3,
   "metadata": {},
   "outputs": [
    {
     "name": "stdout",
     "output_type": "stream",
     "text": [
      "      Record ID                              Institute  \\\n",
      "0  6.341330e+17  Southern Queensland Institute of TAFE   \n",
      "1  6.341337e+17            Mount Isa Institute of TAFE   \n",
      "\n",
      "                   WorkArea  CESSATION YEAR Reason for ceasing employment  \\\n",
      "0  Non-Delivery (corporate)          2010.0              Contract Expired   \n",
      "1  Non-Delivery (corporate)          2010.0                    Retirement   \n",
      "\n",
      "  Contributing Factors. Career Move - Public Sector   \\\n",
      "0                                                NaN   \n",
      "1                                                  -   \n",
      "\n",
      "  Contributing Factors. Career Move - Private Sector   \\\n",
      "0                                                NaN    \n",
      "1                                                  -    \n",
      "\n",
      "  Contributing Factors. Career Move - Self-employment  \\\n",
      "0                                                NaN    \n",
      "1                                                  -    \n",
      "\n",
      "  Contributing Factors. Ill Health Contributing Factors. Maternity/Family  \\\n",
      "0                              NaN                                    NaN   \n",
      "1                                -                                      -   \n",
      "\n",
      "   ...  \\\n",
      "0  ...   \n",
      "1  ...   \n",
      "\n",
      "  Workplace. Topic:Does your workplace promote a work culture free from all forms of unlawful discrimination?  \\\n",
      "0                                                Yes                                                            \n",
      "1                                                Yes                                                            \n",
      "\n",
      "  Workplace. Topic:Does your workplace promote and practice the principles of employment equity?  \\\n",
      "0                                                Yes                                               \n",
      "1                                                Yes                                               \n",
      "\n",
      "  Workplace. Topic:Does your workplace value the diversity of its employees?  \\\n",
      "0                                                Yes                           \n",
      "1                                                Yes                           \n",
      "\n",
      "  Workplace. Topic:Would you recommend the Institute as an employer to others?  \\\n",
      "0                                                Yes                             \n",
      "1                                                Yes                             \n",
      "\n",
      "  Gender. What is your Gender? CurrentAge. Current Age  \\\n",
      "0                       Female                  26  30   \n",
      "1                          NaN                     NaN   \n",
      "\n",
      "  Employment Type. Employment Type Classification. Classification  \\\n",
      "0              Temporary Full-time            Administration (AO)   \n",
      "1                              NaN                            NaN   \n",
      "\n",
      "  LengthofServiceOverall. Overall Length of Service at Institute (in years)  \\\n",
      "0                                                1-2                          \n",
      "1                                                NaN                          \n",
      "\n",
      "  LengthofServiceCurrent. Length of Service at current workplace (in years)  \n",
      "0                                                1-2                         \n",
      "1                                                NaN                         \n",
      "\n",
      "[2 rows x 72 columns]\n",
      "Record ID                                                                                                                                                          0\n",
      "Institute                                                                                                                                                          0\n",
      "WorkArea                                                                                                                                                           0\n",
      "CESSATION YEAR                                                                                                                                                     7\n",
      "Reason for ceasing employment                                                                                                                                      1\n",
      "Contributing Factors. Career Move - Public Sector                                                                                                                265\n",
      "Contributing Factors. Career Move - Private Sector                                                                                                               265\n",
      "Contributing Factors. Career Move - Self-employment                                                                                                              265\n",
      "Contributing Factors. Ill Health                                                                                                                                 265\n",
      "Contributing Factors. Maternity/Family                                                                                                                           265\n",
      "Contributing Factors. Dissatisfaction                                                                                                                            265\n",
      "Contributing Factors. Job Dissatisfaction                                                                                                                        265\n",
      "Contributing Factors. Interpersonal Conflict                                                                                                                     265\n",
      "Contributing Factors. Study                                                                                                                                      265\n",
      "Contributing Factors. Travel                                                                                                                                     265\n",
      "Contributing Factors. Other                                                                                                                                      265\n",
      "Contributing Factors. NONE                                                                                                                                       265\n",
      "Main Factor. Which of these was the main factor for leaving?                                                                                                     589\n",
      "InstituteViews. Topic:1. I feel the senior leadership had a clear vision and direction                                                                            94\n",
      "InstituteViews. Topic:2. I was given access to skills training to help me do my job better                                                                        89\n",
      "InstituteViews. Topic:3. I was given adequate opportunities for personal development                                                                              92\n",
      "InstituteViews. Topic:4. I was given adequate opportunities for promotion within %Institute]Q25LBL%                                                               94\n",
      "InstituteViews. Topic:5. I felt the salary for the job was right for the responsibilities I had                                                                   87\n",
      "InstituteViews. Topic:6. The organisation recognised when staff did good work                                                                                     95\n",
      "InstituteViews. Topic:7. Management was generally supportive of me                                                                                                88\n",
      "InstituteViews. Topic:8. Management was generally supportive of my team                                                                                           94\n",
      "InstituteViews. Topic:9. I was kept informed of the changes in the organisation which would affect me                                                             92\n",
      "InstituteViews. Topic:10. Staff morale was positive within the Institute                                                                                         100\n",
      "InstituteViews. Topic:11. If I had a workplace issue it was dealt with quickly                                                                                   101\n",
      "InstituteViews. Topic:12. If I had a workplace issue it was dealt with efficiently                                                                               105\n",
      "                                                                                                                                                                ... \n",
      "WorkUnitViews. Topic:25. My job allowed me to balance the demands of work and family to my satisfaction                                                           91\n",
      "WorkUnitViews. Topic:26. My supervisor gave me adequate personal recognition and feedback on my performance                                                       96\n",
      "WorkUnitViews. Topic:27. My working environment was satisfactory e.g. sufficient space, good lighting, suitable seating and working area                          92\n",
      "WorkUnitViews. Topic:28. I was given the opportunity to mentor and coach others in order for me to pass on my skills and knowledge prior to my cessation date     93\n",
      "WorkUnitViews. Topic:29. There was adequate communication between staff in my unit                                                                                99\n",
      "WorkUnitViews. Topic:30. Staff morale was positive within my work unit                                                                                            96\n",
      "Induction. Did you undertake Workplace Induction?                                                                                                                 83\n",
      "InductionInfo. Topic:Did you undertake a Corporate Induction?                                                                                                    270\n",
      "InductionInfo. Topic:Did you undertake a Institute Induction?                                                                                                    219\n",
      "InductionInfo. Topic: Did you undertake Team Induction?                                                                                                          262\n",
      "InductionInfo. Face to Face Topic:Did you undertake a Corporate Induction; Category:How it was conducted?                                                        147\n",
      "InductionInfo. On-line Topic:Did you undertake a Corporate Induction; Category:How it was conducted?                                                             147\n",
      "InductionInfo. Induction Manual Topic:Did you undertake a Corporate Induction?                                                                                   147\n",
      "InductionInfo. Face to Face Topic:Did you undertake a Institute Induction?                                                                                       172\n",
      "InductionInfo. On-line Topic:Did you undertake a Institute Induction?                                                                                            147\n",
      "InductionInfo. Induction Manual Topic:Did you undertake a Institute Induction?                                                                                   149\n",
      "InductionInfo. Face to Face Topic: Did you undertake Team Induction; Category?                                                                                   147\n",
      "InductionInfo. On-line Topic: Did you undertake Team Induction?process you undertook and how it was conducted.]                                                  147\n",
      "InductionInfo. Induction Manual Topic: Did you undertake Team Induction?                                                                                         147\n",
      "Workplace. Topic:Did you and your Manager develop a Performance and Professional Development Plan (PPDP)?                                                         94\n",
      "Workplace. Topic:Does your workplace promote a work culture free from all forms of unlawful discrimination?                                                      108\n",
      "Workplace. Topic:Does your workplace promote and practice the principles of employment equity?                                                                   115\n",
      "Workplace. Topic:Does your workplace value the diversity of its employees?                                                                                       116\n",
      "Workplace. Topic:Would you recommend the Institute as an employer to others?                                                                                     121\n",
      "Gender. What is your Gender?                                                                                                                                     106\n",
      "CurrentAge. Current Age                                                                                                                                          106\n",
      "Employment Type. Employment Type                                                                                                                                 106\n",
      "Classification. Classification                                                                                                                                   106\n",
      "LengthofServiceOverall. Overall Length of Service at Institute (in years)                                                                                        106\n",
      "LengthofServiceCurrent. Length of Service at current workplace (in years)                                                                                        106\n",
      "Length: 72, dtype: int64\n",
      "<class 'pandas.core.frame.DataFrame'>\n",
      "RangeIndex: 702 entries, 0 to 701\n",
      "Data columns (total 72 columns):\n",
      "Record ID                                                                                                                                                        702 non-null float64\n",
      "Institute                                                                                                                                                        702 non-null object\n",
      "WorkArea                                                                                                                                                         702 non-null object\n",
      "CESSATION YEAR                                                                                                                                                   695 non-null float64\n",
      "Reason for ceasing employment                                                                                                                                    701 non-null object\n",
      "Contributing Factors. Career Move - Public Sector                                                                                                                437 non-null object\n",
      "Contributing Factors. Career Move - Private Sector                                                                                                               437 non-null object\n",
      "Contributing Factors. Career Move - Self-employment                                                                                                              437 non-null object\n",
      "Contributing Factors. Ill Health                                                                                                                                 437 non-null object\n",
      "Contributing Factors. Maternity/Family                                                                                                                           437 non-null object\n",
      "Contributing Factors. Dissatisfaction                                                                                                                            437 non-null object\n",
      "Contributing Factors. Job Dissatisfaction                                                                                                                        437 non-null object\n",
      "Contributing Factors. Interpersonal Conflict                                                                                                                     437 non-null object\n",
      "Contributing Factors. Study                                                                                                                                      437 non-null object\n",
      "Contributing Factors. Travel                                                                                                                                     437 non-null object\n",
      "Contributing Factors. Other                                                                                                                                      437 non-null object\n",
      "Contributing Factors. NONE                                                                                                                                       437 non-null object\n",
      "Main Factor. Which of these was the main factor for leaving?                                                                                                     113 non-null object\n",
      "InstituteViews. Topic:1. I feel the senior leadership had a clear vision and direction                                                                           608 non-null object\n",
      "InstituteViews. Topic:2. I was given access to skills training to help me do my job better                                                                       613 non-null object\n",
      "InstituteViews. Topic:3. I was given adequate opportunities for personal development                                                                             610 non-null object\n",
      "InstituteViews. Topic:4. I was given adequate opportunities for promotion within %Institute]Q25LBL%                                                              608 non-null object\n",
      "InstituteViews. Topic:5. I felt the salary for the job was right for the responsibilities I had                                                                  615 non-null object\n",
      "InstituteViews. Topic:6. The organisation recognised when staff did good work                                                                                    607 non-null object\n",
      "InstituteViews. Topic:7. Management was generally supportive of me                                                                                               614 non-null object\n",
      "InstituteViews. Topic:8. Management was generally supportive of my team                                                                                          608 non-null object\n",
      "InstituteViews. Topic:9. I was kept informed of the changes in the organisation which would affect me                                                            610 non-null object\n",
      "InstituteViews. Topic:10. Staff morale was positive within the Institute                                                                                         602 non-null object\n",
      "InstituteViews. Topic:11. If I had a workplace issue it was dealt with quickly                                                                                   601 non-null object\n",
      "InstituteViews. Topic:12. If I had a workplace issue it was dealt with efficiently                                                                               597 non-null object\n",
      "InstituteViews. Topic:13. If I had a workplace issue it was dealt with discreetly                                                                                601 non-null object\n",
      "WorkUnitViews. Topic:14. I was satisfied with the quality of the management and supervision within my work unit                                                  609 non-null object\n",
      "WorkUnitViews. Topic:15. I worked well with my colleagues                                                                                                        605 non-null object\n",
      "WorkUnitViews. Topic:16. My job was challenging and interesting                                                                                                  607 non-null object\n",
      "WorkUnitViews. Topic:17. I was encouraged to use my initiative in the course of my work                                                                          610 non-null object\n",
      "WorkUnitViews. Topic:18. I had sufficient contact with other people in my job                                                                                    613 non-null object\n",
      "WorkUnitViews. Topic:19. I was given adequate support and co-operation by my peers to enable me to do my job                                                     609 non-null object\n",
      "WorkUnitViews. Topic:20. I was able to use the full range of my skills in my job                                                                                 609 non-null object\n",
      "WorkUnitViews. Topic:21. I was able to use the full range of my abilities in my job. ; Category:Level of Agreement; Question:YOUR VIEWS ABOUT YOUR WORK UNIT]    608 non-null object\n",
      "WorkUnitViews. Topic:22. I was able to use the full range of my knowledge in my job                                                                              608 non-null object\n",
      "WorkUnitViews. Topic:23. My job provided sufficient variety                                                                                                      611 non-null object\n",
      "WorkUnitViews. Topic:24. I was able to cope with the level of stress and pressure in my job                                                                      610 non-null object\n",
      "WorkUnitViews. Topic:25. My job allowed me to balance the demands of work and family to my satisfaction                                                          611 non-null object\n",
      "WorkUnitViews. Topic:26. My supervisor gave me adequate personal recognition and feedback on my performance                                                      606 non-null object\n",
      "WorkUnitViews. Topic:27. My working environment was satisfactory e.g. sufficient space, good lighting, suitable seating and working area                         610 non-null object\n",
      "WorkUnitViews. Topic:28. I was given the opportunity to mentor and coach others in order for me to pass on my skills and knowledge prior to my cessation date    609 non-null object\n",
      "WorkUnitViews. Topic:29. There was adequate communication between staff in my unit                                                                               603 non-null object\n",
      "WorkUnitViews. Topic:30. Staff morale was positive within my work unit                                                                                           606 non-null object\n",
      "Induction. Did you undertake Workplace Induction?                                                                                                                619 non-null object\n",
      "InductionInfo. Topic:Did you undertake a Corporate Induction?                                                                                                    432 non-null object\n",
      "InductionInfo. Topic:Did you undertake a Institute Induction?                                                                                                    483 non-null object\n",
      "InductionInfo. Topic: Did you undertake Team Induction?                                                                                                          440 non-null object\n",
      "InductionInfo. Face to Face Topic:Did you undertake a Corporate Induction; Category:How it was conducted?                                                        555 non-null object\n",
      "InductionInfo. On-line Topic:Did you undertake a Corporate Induction; Category:How it was conducted?                                                             555 non-null object\n",
      "InductionInfo. Induction Manual Topic:Did you undertake a Corporate Induction?                                                                                   555 non-null object\n",
      "InductionInfo. Face to Face Topic:Did you undertake a Institute Induction?                                                                                       530 non-null object\n",
      "InductionInfo. On-line Topic:Did you undertake a Institute Induction?                                                                                            555 non-null object\n",
      "InductionInfo. Induction Manual Topic:Did you undertake a Institute Induction?                                                                                   553 non-null object\n",
      "InductionInfo. Face to Face Topic: Did you undertake Team Induction; Category?                                                                                   555 non-null object\n",
      "InductionInfo. On-line Topic: Did you undertake Team Induction?process you undertook and how it was conducted.]                                                  555 non-null object\n",
      "InductionInfo. Induction Manual Topic: Did you undertake Team Induction?                                                                                         555 non-null object\n",
      "Workplace. Topic:Did you and your Manager develop a Performance and Professional Development Plan (PPDP)?                                                        608 non-null object\n",
      "Workplace. Topic:Does your workplace promote a work culture free from all forms of unlawful discrimination?                                                      594 non-null object\n",
      "Workplace. Topic:Does your workplace promote and practice the principles of employment equity?                                                                   587 non-null object\n",
      "Workplace. Topic:Does your workplace value the diversity of its employees?                                                                                       586 non-null object\n",
      "Workplace. Topic:Would you recommend the Institute as an employer to others?                                                                                     581 non-null object\n",
      "Gender. What is your Gender?                                                                                                                                     596 non-null object\n",
      "CurrentAge. Current Age                                                                                                                                          596 non-null object\n",
      "Employment Type. Employment Type                                                                                                                                 596 non-null object\n",
      "Classification. Classification                                                                                                                                   596 non-null object\n",
      "LengthofServiceOverall. Overall Length of Service at Institute (in years)                                                                                        596 non-null object\n",
      "LengthofServiceCurrent. Length of Service at current workplace (in years)                                                                                        596 non-null object\n",
      "dtypes: float64(2), object(70)\n",
      "memory usage: 395.0+ KB\n"
     ]
    }
   ],
   "source": [
    "print(tafe_survey.head(2))\n",
    "print(tafe_survey.isnull().sum())\n",
    "tafe_survey.info()"
   ]
  },
  {
   "cell_type": "markdown",
   "metadata": {},
   "source": [
    "As we can see in blow the data set have 702 rows and 72 columns. There are a lot columns with a very long string names. Also there is some columns with a lot of missing data.\n",
    "\n",
    "## Data cleaning \n",
    "In this step we are going to apply some data cleaning techniques to our data sets\n",
    "\n",
    "### \"Not Stated\" to Nan\n",
    "\n",
    "We are going to read the dete_survey data set again but this time we set the 'Not Stated' to NaN \n",
    "\n"
   ]
  },
  {
   "cell_type": "code",
   "execution_count": 4,
   "metadata": {},
   "outputs": [
    {
     "data": {
      "text/html": [
       "<div>\n",
       "<style scoped>\n",
       "    .dataframe tbody tr th:only-of-type {\n",
       "        vertical-align: middle;\n",
       "    }\n",
       "\n",
       "    .dataframe tbody tr th {\n",
       "        vertical-align: top;\n",
       "    }\n",
       "\n",
       "    .dataframe thead th {\n",
       "        text-align: right;\n",
       "    }\n",
       "</style>\n",
       "<table border=\"1\" class=\"dataframe\">\n",
       "  <thead>\n",
       "    <tr style=\"text-align: right;\">\n",
       "      <th></th>\n",
       "      <th>ID</th>\n",
       "      <th>SeparationType</th>\n",
       "      <th>Cease Date</th>\n",
       "      <th>DETE Start Date</th>\n",
       "      <th>Role Start Date</th>\n",
       "      <th>Position</th>\n",
       "      <th>Classification</th>\n",
       "      <th>Region</th>\n",
       "      <th>Business Unit</th>\n",
       "      <th>Employment Status</th>\n",
       "      <th>...</th>\n",
       "      <th>Kept informed</th>\n",
       "      <th>Wellness programs</th>\n",
       "      <th>Health &amp; Safety</th>\n",
       "      <th>Gender</th>\n",
       "      <th>Age</th>\n",
       "      <th>Aboriginal</th>\n",
       "      <th>Torres Strait</th>\n",
       "      <th>South Sea</th>\n",
       "      <th>Disability</th>\n",
       "      <th>NESB</th>\n",
       "    </tr>\n",
       "  </thead>\n",
       "  <tbody>\n",
       "    <tr>\n",
       "      <th>0</th>\n",
       "      <td>1</td>\n",
       "      <td>Ill Health Retirement</td>\n",
       "      <td>08/2012</td>\n",
       "      <td>1984.0</td>\n",
       "      <td>2004.0</td>\n",
       "      <td>Public Servant</td>\n",
       "      <td>A01-A04</td>\n",
       "      <td>Central Office</td>\n",
       "      <td>Corporate Strategy and Peformance</td>\n",
       "      <td>Permanent Full-time</td>\n",
       "      <td>...</td>\n",
       "      <td>N</td>\n",
       "      <td>N</td>\n",
       "      <td>N</td>\n",
       "      <td>Male</td>\n",
       "      <td>56-60</td>\n",
       "      <td>NaN</td>\n",
       "      <td>NaN</td>\n",
       "      <td>NaN</td>\n",
       "      <td>NaN</td>\n",
       "      <td>Yes</td>\n",
       "    </tr>\n",
       "    <tr>\n",
       "      <th>1</th>\n",
       "      <td>2</td>\n",
       "      <td>Voluntary Early Retirement (VER)</td>\n",
       "      <td>08/2012</td>\n",
       "      <td>NaN</td>\n",
       "      <td>NaN</td>\n",
       "      <td>Public Servant</td>\n",
       "      <td>AO5-AO7</td>\n",
       "      <td>Central Office</td>\n",
       "      <td>Corporate Strategy and Peformance</td>\n",
       "      <td>Permanent Full-time</td>\n",
       "      <td>...</td>\n",
       "      <td>N</td>\n",
       "      <td>N</td>\n",
       "      <td>N</td>\n",
       "      <td>Male</td>\n",
       "      <td>56-60</td>\n",
       "      <td>NaN</td>\n",
       "      <td>NaN</td>\n",
       "      <td>NaN</td>\n",
       "      <td>NaN</td>\n",
       "      <td>NaN</td>\n",
       "    </tr>\n",
       "  </tbody>\n",
       "</table>\n",
       "<p>2 rows × 56 columns</p>\n",
       "</div>"
      ],
      "text/plain": [
       "   ID                    SeparationType Cease Date  DETE Start Date  \\\n",
       "0   1             Ill Health Retirement    08/2012           1984.0   \n",
       "1   2  Voluntary Early Retirement (VER)    08/2012              NaN   \n",
       "\n",
       "   Role Start Date        Position Classification          Region  \\\n",
       "0           2004.0  Public Servant        A01-A04  Central Office   \n",
       "1              NaN  Public Servant        AO5-AO7  Central Office   \n",
       "\n",
       "                       Business Unit    Employment Status  ...  Kept informed  \\\n",
       "0  Corporate Strategy and Peformance  Permanent Full-time  ...              N   \n",
       "1  Corporate Strategy and Peformance  Permanent Full-time  ...              N   \n",
       "\n",
       "   Wellness programs  Health & Safety  Gender    Age  Aboriginal  \\\n",
       "0                  N                N    Male  56-60         NaN   \n",
       "1                  N                N    Male  56-60         NaN   \n",
       "\n",
       "   Torres Strait  South Sea  Disability  NESB  \n",
       "0            NaN        NaN         NaN   Yes  \n",
       "1            NaN        NaN         NaN   NaN  \n",
       "\n",
       "[2 rows x 56 columns]"
      ]
     },
     "execution_count": 4,
     "metadata": {},
     "output_type": "execute_result"
    }
   ],
   "source": [
    "dete_survey = pd.read_csv(\"dete_survey.csv\", na_values = 'Not Stated')\n",
    "dete_survey.head(2)"
   ]
  },
  {
   "cell_type": "markdown",
   "metadata": {},
   "source": [
    "### Dropping non-necessary columns \n",
    "\n",
    "Let's drop non necessary columns for each data set. We are going to drop 28 to 49 columns from dete_survey data set and 17 to 66 columns for tafe_survey data set\n"
   ]
  },
  {
   "cell_type": "code",
   "execution_count": 5,
   "metadata": {},
   "outputs": [],
   "source": [
    "dete_survey = dete_survey.drop(dete_survey.columns[28:49], axis = 1)\n",
    "tafe_survey = tafe_survey.drop(tafe_survey.columns[17:66], axis = 1)\n"
   ]
  },
  {
   "cell_type": "markdown",
   "metadata": {},
   "source": [
    "### Modifying columns name \n",
    "\n",
    "in this part we are going to make some changes to data sets columns name to make them statndard and same. \n",
    "\n",
    "We first start by making modification to dete_survey data set. We are going to:\n",
    "\n",
    "Make all capitalization lowercase\n",
    " \n",
    "Remove any trailing whitespace from the end of the strings\n",
    " \n",
    "Replace spaces with underscores ('_')\n"
   ]
  },
  {
   "cell_type": "code",
   "execution_count": 6,
   "metadata": {},
   "outputs": [],
   "source": [
    "dete_survey.columns = dete_survey.columns.str.lower().str.replace(\"\\s+\", \" \") .str.replace(\" \", \"_\")"
   ]
  },
  {
   "cell_type": "markdown",
   "metadata": {},
   "source": [
    "Then we are going to make changes to tafe_survey columns and make them same as dete_survey columns like blow: \n",
    "\n",
    "`Record ID`: `id`                     \n",
    "`CESSATION YEAR`: `cease_date`                         \n",
    "`Reason for ceasing employment`: `separationtype`                       \n",
    "`Gender. What is your Gender?`: `gender`                        \n",
    "`CurrentAge. Current Age`: `age`                       \n",
    "`Employment Type. Employment Type`: `employment_status`                 \n",
    "`Classification. Classification`: `position`                 \n",
    "`LengthofServiceOverall. Overall Length of Service at Institute (in years)`: `institute_service`                    \n"
   ]
  },
  {
   "cell_type": "code",
   "execution_count": 7,
   "metadata": {},
   "outputs": [],
   "source": [
    "changes = {'Record ID': 'id',\n",
    "'CESSATION YEAR': 'cease_date',\n",
    "'Reason for ceasing employment': 'separationtype',\n",
    "'Gender. What is your Gender?': 'gender',\n",
    "'CurrentAge. Current Age': 'age',\n",
    "'Employment Type. Employment Type': 'employment_status',\n",
    "'Classification. Classification': 'position',\n",
    "'LengthofServiceOverall. Overall Length of Service at Institute (in years)': 'institute_service',\n",
    "'LengthofServiceCurrent. Length of Service at current workplace (in years)': 'role_service'    \n",
    "}\n",
    "\n",
    "tafe_survey = tafe_survey.rename(changes, axis = 1)"
   ]
  },
  {
   "cell_type": "markdown",
   "metadata": {},
   "source": [
    "Let's take a look at first rows for each data sets "
   ]
  },
  {
   "cell_type": "code",
   "execution_count": 8,
   "metadata": {},
   "outputs": [
    {
     "data": {
      "text/html": [
       "<div>\n",
       "<style scoped>\n",
       "    .dataframe tbody tr th:only-of-type {\n",
       "        vertical-align: middle;\n",
       "    }\n",
       "\n",
       "    .dataframe tbody tr th {\n",
       "        vertical-align: top;\n",
       "    }\n",
       "\n",
       "    .dataframe thead th {\n",
       "        text-align: right;\n",
       "    }\n",
       "</style>\n",
       "<table border=\"1\" class=\"dataframe\">\n",
       "  <thead>\n",
       "    <tr style=\"text-align: right;\">\n",
       "      <th></th>\n",
       "      <th>id</th>\n",
       "      <th>separationtype</th>\n",
       "      <th>cease_date</th>\n",
       "      <th>dete_start_date</th>\n",
       "      <th>role_start_date</th>\n",
       "      <th>position</th>\n",
       "      <th>classification</th>\n",
       "      <th>region</th>\n",
       "      <th>business_unit</th>\n",
       "      <th>employment_status</th>\n",
       "      <th>...</th>\n",
       "      <th>work_life_balance</th>\n",
       "      <th>workload</th>\n",
       "      <th>none_of_the_above</th>\n",
       "      <th>gender</th>\n",
       "      <th>age</th>\n",
       "      <th>aboriginal</th>\n",
       "      <th>torres_strait</th>\n",
       "      <th>south_sea</th>\n",
       "      <th>disability</th>\n",
       "      <th>nesb</th>\n",
       "    </tr>\n",
       "  </thead>\n",
       "  <tbody>\n",
       "    <tr>\n",
       "      <th>0</th>\n",
       "      <td>1</td>\n",
       "      <td>Ill Health Retirement</td>\n",
       "      <td>08/2012</td>\n",
       "      <td>1984.0</td>\n",
       "      <td>2004.0</td>\n",
       "      <td>Public Servant</td>\n",
       "      <td>A01-A04</td>\n",
       "      <td>Central Office</td>\n",
       "      <td>Corporate Strategy and Peformance</td>\n",
       "      <td>Permanent Full-time</td>\n",
       "      <td>...</td>\n",
       "      <td>False</td>\n",
       "      <td>False</td>\n",
       "      <td>True</td>\n",
       "      <td>Male</td>\n",
       "      <td>56-60</td>\n",
       "      <td>NaN</td>\n",
       "      <td>NaN</td>\n",
       "      <td>NaN</td>\n",
       "      <td>NaN</td>\n",
       "      <td>Yes</td>\n",
       "    </tr>\n",
       "    <tr>\n",
       "      <th>1</th>\n",
       "      <td>2</td>\n",
       "      <td>Voluntary Early Retirement (VER)</td>\n",
       "      <td>08/2012</td>\n",
       "      <td>NaN</td>\n",
       "      <td>NaN</td>\n",
       "      <td>Public Servant</td>\n",
       "      <td>AO5-AO7</td>\n",
       "      <td>Central Office</td>\n",
       "      <td>Corporate Strategy and Peformance</td>\n",
       "      <td>Permanent Full-time</td>\n",
       "      <td>...</td>\n",
       "      <td>False</td>\n",
       "      <td>False</td>\n",
       "      <td>False</td>\n",
       "      <td>Male</td>\n",
       "      <td>56-60</td>\n",
       "      <td>NaN</td>\n",
       "      <td>NaN</td>\n",
       "      <td>NaN</td>\n",
       "      <td>NaN</td>\n",
       "      <td>NaN</td>\n",
       "    </tr>\n",
       "  </tbody>\n",
       "</table>\n",
       "<p>2 rows × 35 columns</p>\n",
       "</div>"
      ],
      "text/plain": [
       "   id                    separationtype cease_date  dete_start_date  \\\n",
       "0   1             Ill Health Retirement    08/2012           1984.0   \n",
       "1   2  Voluntary Early Retirement (VER)    08/2012              NaN   \n",
       "\n",
       "   role_start_date        position classification          region  \\\n",
       "0           2004.0  Public Servant        A01-A04  Central Office   \n",
       "1              NaN  Public Servant        AO5-AO7  Central Office   \n",
       "\n",
       "                       business_unit    employment_status  ...  \\\n",
       "0  Corporate Strategy and Peformance  Permanent Full-time  ...   \n",
       "1  Corporate Strategy and Peformance  Permanent Full-time  ...   \n",
       "\n",
       "   work_life_balance  workload  none_of_the_above  gender    age  aboriginal  \\\n",
       "0              False     False               True    Male  56-60         NaN   \n",
       "1              False     False              False    Male  56-60         NaN   \n",
       "\n",
       "   torres_strait  south_sea  disability  nesb  \n",
       "0            NaN        NaN         NaN   Yes  \n",
       "1            NaN        NaN         NaN   NaN  \n",
       "\n",
       "[2 rows x 35 columns]"
      ]
     },
     "execution_count": 8,
     "metadata": {},
     "output_type": "execute_result"
    }
   ],
   "source": [
    "dete_survey.head(2)"
   ]
  },
  {
   "cell_type": "code",
   "execution_count": 9,
   "metadata": {},
   "outputs": [
    {
     "data": {
      "text/html": [
       "<div>\n",
       "<style scoped>\n",
       "    .dataframe tbody tr th:only-of-type {\n",
       "        vertical-align: middle;\n",
       "    }\n",
       "\n",
       "    .dataframe tbody tr th {\n",
       "        vertical-align: top;\n",
       "    }\n",
       "\n",
       "    .dataframe thead th {\n",
       "        text-align: right;\n",
       "    }\n",
       "</style>\n",
       "<table border=\"1\" class=\"dataframe\">\n",
       "  <thead>\n",
       "    <tr style=\"text-align: right;\">\n",
       "      <th></th>\n",
       "      <th>id</th>\n",
       "      <th>Institute</th>\n",
       "      <th>WorkArea</th>\n",
       "      <th>cease_date</th>\n",
       "      <th>separationtype</th>\n",
       "      <th>Contributing Factors. Career Move - Public Sector</th>\n",
       "      <th>Contributing Factors. Career Move - Private Sector</th>\n",
       "      <th>Contributing Factors. Career Move - Self-employment</th>\n",
       "      <th>Contributing Factors. Ill Health</th>\n",
       "      <th>Contributing Factors. Maternity/Family</th>\n",
       "      <th>...</th>\n",
       "      <th>Contributing Factors. Study</th>\n",
       "      <th>Contributing Factors. Travel</th>\n",
       "      <th>Contributing Factors. Other</th>\n",
       "      <th>Contributing Factors. NONE</th>\n",
       "      <th>gender</th>\n",
       "      <th>age</th>\n",
       "      <th>employment_status</th>\n",
       "      <th>position</th>\n",
       "      <th>institute_service</th>\n",
       "      <th>role_service</th>\n",
       "    </tr>\n",
       "  </thead>\n",
       "  <tbody>\n",
       "    <tr>\n",
       "      <th>0</th>\n",
       "      <td>6.341330e+17</td>\n",
       "      <td>Southern Queensland Institute of TAFE</td>\n",
       "      <td>Non-Delivery (corporate)</td>\n",
       "      <td>2010.0</td>\n",
       "      <td>Contract Expired</td>\n",
       "      <td>NaN</td>\n",
       "      <td>NaN</td>\n",
       "      <td>NaN</td>\n",
       "      <td>NaN</td>\n",
       "      <td>NaN</td>\n",
       "      <td>...</td>\n",
       "      <td>NaN</td>\n",
       "      <td>NaN</td>\n",
       "      <td>NaN</td>\n",
       "      <td>NaN</td>\n",
       "      <td>Female</td>\n",
       "      <td>26  30</td>\n",
       "      <td>Temporary Full-time</td>\n",
       "      <td>Administration (AO)</td>\n",
       "      <td>1-2</td>\n",
       "      <td>1-2</td>\n",
       "    </tr>\n",
       "    <tr>\n",
       "      <th>1</th>\n",
       "      <td>6.341337e+17</td>\n",
       "      <td>Mount Isa Institute of TAFE</td>\n",
       "      <td>Non-Delivery (corporate)</td>\n",
       "      <td>2010.0</td>\n",
       "      <td>Retirement</td>\n",
       "      <td>-</td>\n",
       "      <td>-</td>\n",
       "      <td>-</td>\n",
       "      <td>-</td>\n",
       "      <td>-</td>\n",
       "      <td>...</td>\n",
       "      <td>-</td>\n",
       "      <td>Travel</td>\n",
       "      <td>-</td>\n",
       "      <td>-</td>\n",
       "      <td>NaN</td>\n",
       "      <td>NaN</td>\n",
       "      <td>NaN</td>\n",
       "      <td>NaN</td>\n",
       "      <td>NaN</td>\n",
       "      <td>NaN</td>\n",
       "    </tr>\n",
       "  </tbody>\n",
       "</table>\n",
       "<p>2 rows × 23 columns</p>\n",
       "</div>"
      ],
      "text/plain": [
       "             id                              Institute  \\\n",
       "0  6.341330e+17  Southern Queensland Institute of TAFE   \n",
       "1  6.341337e+17            Mount Isa Institute of TAFE   \n",
       "\n",
       "                   WorkArea  cease_date    separationtype  \\\n",
       "0  Non-Delivery (corporate)      2010.0  Contract Expired   \n",
       "1  Non-Delivery (corporate)      2010.0        Retirement   \n",
       "\n",
       "  Contributing Factors. Career Move - Public Sector   \\\n",
       "0                                                NaN   \n",
       "1                                                  -   \n",
       "\n",
       "  Contributing Factors. Career Move - Private Sector   \\\n",
       "0                                                NaN    \n",
       "1                                                  -    \n",
       "\n",
       "  Contributing Factors. Career Move - Self-employment  \\\n",
       "0                                                NaN    \n",
       "1                                                  -    \n",
       "\n",
       "  Contributing Factors. Ill Health Contributing Factors. Maternity/Family  \\\n",
       "0                              NaN                                    NaN   \n",
       "1                                -                                      -   \n",
       "\n",
       "   ... Contributing Factors. Study Contributing Factors. Travel  \\\n",
       "0  ...                         NaN                          NaN   \n",
       "1  ...                           -                       Travel   \n",
       "\n",
       "  Contributing Factors. Other Contributing Factors. NONE  gender     age  \\\n",
       "0                         NaN                        NaN  Female  26  30   \n",
       "1                           -                          -     NaN     NaN   \n",
       "\n",
       "     employment_status             position institute_service role_service  \n",
       "0  Temporary Full-time  Administration (AO)               1-2          1-2  \n",
       "1                  NaN                  NaN               NaN          NaN  \n",
       "\n",
       "[2 rows x 23 columns]"
      ]
     },
     "execution_count": 9,
     "metadata": {},
     "output_type": "execute_result"
    }
   ],
   "source": [
    "tafe_survey.head(2)"
   ]
  },
  {
   "cell_type": "markdown",
   "metadata": {},
   "source": [
    "### Include only resignation types.\n",
    "\n",
    "If we remember goal of this project it is aimed to explore only for separation type of resignation. Then we are going to exclude other type of separation. To see the unique type of separations for each data set we showed them in the following two cells blow. As you can see for the dete_survey data set there are three type of resignation and we should include all three of them.\n"
   ]
  },
  {
   "cell_type": "code",
   "execution_count": 10,
   "metadata": {},
   "outputs": [
    {
     "data": {
      "text/plain": [
       "Age Retirement                          285\n",
       "Resignation-Other reasons               150\n",
       "Resignation-Other employer               91\n",
       "Resignation-Move overseas/interstate     70\n",
       "Voluntary Early Retirement (VER)         67\n",
       "Ill Health Retirement                    61\n",
       "Other                                    49\n",
       "Contract Expired                         34\n",
       "Termination                              15\n",
       "Name: separationtype, dtype: int64"
      ]
     },
     "execution_count": 10,
     "metadata": {},
     "output_type": "execute_result"
    }
   ],
   "source": [
    "dete_survey[\"separationtype\"].value_counts()"
   ]
  },
  {
   "cell_type": "code",
   "execution_count": 11,
   "metadata": {},
   "outputs": [
    {
     "data": {
      "text/plain": [
       "Resignation                 340\n",
       "Contract Expired            127\n",
       "Retrenchment/ Redundancy    104\n",
       "Retirement                   82\n",
       "Transfer                     25\n",
       "Termination                  23\n",
       "Name: separationtype, dtype: int64"
      ]
     },
     "execution_count": 11,
     "metadata": {},
     "output_type": "execute_result"
    }
   ],
   "source": [
    "tafe_survey[\"separationtype\"].value_counts()"
   ]
  },
  {
   "cell_type": "markdown",
   "metadata": {},
   "source": [
    "We are going to find the row that their separation type contain 'Resignation' then save them to new copies          "
   ]
  },
  {
   "cell_type": "code",
   "execution_count": 12,
   "metadata": {},
   "outputs": [],
   "source": [
    "dete_resignations = dete_survey[dete_survey[\"separationtype\"].str.contains(\"Resignation\", na = False)].copy()\n",
    "tafe_resignations = tafe_survey[tafe_survey[\"separationtype\"].str.contains(\"Resignation\", na = False)].copy()"
   ]
  },
  {
   "cell_type": "code",
   "execution_count": 13,
   "metadata": {},
   "outputs": [
    {
     "data": {
      "text/plain": [
       "Resignation-Other reasons               150\n",
       "Resignation-Other employer               91\n",
       "Resignation-Move overseas/interstate     70\n",
       "Name: separationtype, dtype: int64"
      ]
     },
     "execution_count": 13,
     "metadata": {},
     "output_type": "execute_result"
    }
   ],
   "source": [
    "dete_resignations[\"separationtype\"].value_counts()"
   ]
  },
  {
   "cell_type": "markdown",
   "metadata": {},
   "source": [
    "### Cleaning date columns\n",
    "\n",
    "First let's take a look at unique values in `cease_date` `dete_resignations` columns in dete_resignations data set and `cease_date` column in tafe_registrations data set to explore any nonsense value\n"
   ]
  },
  {
   "cell_type": "code",
   "execution_count": 14,
   "metadata": {},
   "outputs": [
    {
     "data": {
      "text/plain": [
       "2012       126\n",
       "2013        74\n",
       "01/2014     22\n",
       "12/2013     17\n",
       "06/2013     14\n",
       "09/2013     11\n",
       "07/2013      9\n",
       "11/2013      9\n",
       "10/2013      6\n",
       "08/2013      4\n",
       "05/2013      2\n",
       "05/2012      2\n",
       "07/2012      1\n",
       "07/2006      1\n",
       "2010         1\n",
       "09/2010      1\n",
       "Name: cease_date, dtype: int64"
      ]
     },
     "execution_count": 14,
     "metadata": {},
     "output_type": "execute_result"
    }
   ],
   "source": [
    "dete_resignations[\"cease_date\"].value_counts()"
   ]
  },
  {
   "cell_type": "markdown",
   "metadata": {},
   "source": [
    "As it is clear all dates are logical in `cease_date` column of dete_resignations data set"
   ]
  },
  {
   "cell_type": "code",
   "execution_count": 15,
   "metadata": {},
   "outputs": [
    {
     "data": {
      "text/plain": [
       "2011.0    116\n",
       "2012.0     94\n",
       "2010.0     68\n",
       "2013.0     55\n",
       "2009.0      2\n",
       "Name: cease_date, dtype: int64"
      ]
     },
     "execution_count": 15,
     "metadata": {},
     "output_type": "execute_result"
    }
   ],
   "source": [
    "tafe_resignations[\"cease_date\"].value_counts()"
   ]
  },
  {
   "cell_type": "markdown",
   "metadata": {},
   "source": [
    "Also all dates are logical in `cease_date` column of tafe_resignations data set"
   ]
  },
  {
   "cell_type": "code",
   "execution_count": 16,
   "metadata": {},
   "outputs": [
    {
     "data": {
      "text/plain": [
       "2011.0    24\n",
       "2008.0    22\n",
       "2007.0    21\n",
       "2012.0    21\n",
       "2010.0    17\n",
       "2005.0    15\n",
       "2004.0    14\n",
       "2009.0    13\n",
       "2006.0    13\n",
       "2013.0    10\n",
       "2000.0     9\n",
       "1999.0     8\n",
       "1996.0     6\n",
       "2002.0     6\n",
       "1992.0     6\n",
       "1998.0     6\n",
       "2003.0     6\n",
       "1994.0     6\n",
       "1993.0     5\n",
       "1990.0     5\n",
       "1980.0     5\n",
       "1997.0     5\n",
       "1991.0     4\n",
       "1989.0     4\n",
       "1988.0     4\n",
       "1995.0     4\n",
       "2001.0     3\n",
       "1985.0     3\n",
       "1986.0     3\n",
       "1983.0     2\n",
       "1976.0     2\n",
       "1974.0     2\n",
       "1971.0     1\n",
       "1972.0     1\n",
       "1984.0     1\n",
       "1982.0     1\n",
       "1987.0     1\n",
       "1975.0     1\n",
       "1973.0     1\n",
       "1977.0     1\n",
       "1963.0     1\n",
       "Name: dete_start_date, dtype: int64"
      ]
     },
     "execution_count": 16,
     "metadata": {},
     "output_type": "execute_result"
    }
   ],
   "source": [
    "dete_resignations[\"dete_start_date\"].value_counts()"
   ]
  },
  {
   "cell_type": "markdown",
   "metadata": {},
   "source": [
    "Also in this column there are no nonsense value\n",
    "\n",
    "Now were are going to extract the years from `cease_date` column of dete_resignations data set and convert to float type\n"
   ]
  },
  {
   "cell_type": "code",
   "execution_count": 17,
   "metadata": {},
   "outputs": [
    {
     "data": {
      "text/plain": [
       "2013.0    146\n",
       "2012.0    129\n",
       "2014.0     22\n",
       "2010.0      2\n",
       "2006.0      1\n",
       "Name: cease_date, dtype: int64"
      ]
     },
     "execution_count": 17,
     "metadata": {},
     "output_type": "execute_result"
    }
   ],
   "source": [
    "pattern = r\"([1-2][0-9]{3})\"\n",
    "dete_resignations[\"cease_date\"] = dete_resignations[\"cease_date\"].str.extract(pattern)\n",
    "dete_resignations[\"cease_date\"] = dete_resignations[\"cease_date\"].astype(\"float\")\n",
    "dete_resignations[\"cease_date\"].value_counts()"
   ]
  },
  {
   "cell_type": "code",
   "execution_count": 18,
   "metadata": {},
   "outputs": [
    {
     "data": {
      "image/png": "[encoded data removed]",
      "text/plain": [
       "<Figure size 432x288 with 1 Axes>"
      ]
     },
     "metadata": {
      "needs_background": "light"
     },
     "output_type": "display_data"
    }
   ],
   "source": [
    "boxplot1 = dete_resignations.boxplot(column = ['cease_date', 'dete_start_date'])"
   ]
  },
  {
   "cell_type": "code",
   "execution_count": 19,
   "metadata": {},
   "outputs": [
    {
     "data": {
      "image/png": "[encoded data removed]",
      "text/plain": [
       "<Figure size 432x288 with 1 Axes>"
      ]
     },
     "metadata": {
      "needs_background": "light"
     },
     "output_type": "display_data"
    }
   ],
   "source": [
    "boxplot2 = tafe_resignations.boxplot(column = ['cease_date'])"
   ]
  },
  {
   "cell_type": "markdown",
   "metadata": {},
   "source": [
    "As you can see for better view of dates in these data sets we plotted the box plot for date columns as in above.\n",
    "\n",
    "### New column of institute_service \n",
    "\n",
    "According to the project goal we need service time to be calculated. For dete_resignations these time actually calculated and saved in the column `institute_service`. We need to add new column with this name in dete_resignations data set. We only need to subtract the `dete_start_date` from the `cease_date`.\n",
    "\n"
   ]
  },
  {
   "cell_type": "code",
   "execution_count": 20,
   "metadata": {},
   "outputs": [],
   "source": [
    "dete_resignations[\"institute_service\"] = dete_resignations['cease_date'] - dete_resignations['dete_start_date']"
   ]
  },
  {
   "cell_type": "code",
   "execution_count": 21,
   "metadata": {},
   "outputs": [
    {
     "data": {
      "text/plain": [
       "5.0     23\n",
       "1.0     22\n",
       "3.0     20\n",
       "0.0     20\n",
       "6.0     17\n",
       "4.0     16\n",
       "9.0     14\n",
       "2.0     14\n",
       "7.0     13\n",
       "13.0     8\n",
       "8.0      8\n",
       "20.0     7\n",
       "15.0     7\n",
       "10.0     6\n",
       "22.0     6\n",
       "14.0     6\n",
       "17.0     6\n",
       "12.0     6\n",
       "16.0     5\n",
       "18.0     5\n",
       "23.0     4\n",
       "11.0     4\n",
       "24.0     4\n",
       "39.0     3\n",
       "19.0     3\n",
       "21.0     3\n",
       "32.0     3\n",
       "28.0     2\n",
       "26.0     2\n",
       "25.0     2\n",
       "30.0     2\n",
       "36.0     2\n",
       "29.0     1\n",
       "33.0     1\n",
       "42.0     1\n",
       "27.0     1\n",
       "41.0     1\n",
       "35.0     1\n",
       "38.0     1\n",
       "34.0     1\n",
       "49.0     1\n",
       "31.0     1\n",
       "Name: institute_service, dtype: int64"
      ]
     },
     "execution_count": 21,
     "metadata": {},
     "output_type": "execute_result"
    }
   ],
   "source": [
    "dete_resignations[\"institute_service\"].value_counts()"
   ]
  },
  {
   "cell_type": "markdown",
   "metadata": {},
   "source": [
    "### Identify Dissatisfied Employees\n",
    "\n",
    "In this step we are going to identify dissatisfied employees. In each data set there are some columns that we can imply if the employee resigned because of dissatisfaction or not then we use them to create new column to indicate our imply. We first start with tafe data set.\n",
    "In this data set there are two columns that we can use them for this task\"\n",
    "`Contributing Factors. Dissatisfaction`                \n",
    "`Contributing Factors. Job Dissatisfaction`                 \n",
    "\n",
    "in the code blow we just showed the value counts for one of them\n"
   ]
  },
  {
   "cell_type": "code",
   "execution_count": 22,
   "metadata": {},
   "outputs": [
    {
     "data": {
      "text/plain": [
       "-                                         277\n",
       "Contributing Factors. Dissatisfaction      55\n",
       "Name: Contributing Factors. Dissatisfaction, dtype: int64"
      ]
     },
     "execution_count": 22,
     "metadata": {},
     "output_type": "execute_result"
    }
   ],
   "source": [
    "tafe_resignations['Contributing Factors. Dissatisfaction'].value_counts()"
   ]
  },
  {
   "cell_type": "markdown",
   "metadata": {},
   "source": [
    "We need to replace every '-' and NaN tyope False value and the rest of them to True value. For this we first define a faction for this task and then we will pass this function to applymap method to apply this function to all of the values in these two columns.\n",
    "Here is the update_vals function in the code blow\n"
   ]
  },
  {
   "cell_type": "code",
   "execution_count": 23,
   "metadata": {},
   "outputs": [],
   "source": [
    "def update_vals(val):\n",
    "    if pd.isnull(val):\n",
    "        return np.nan\n",
    "    elif val == \"-\":\n",
    "        return False\n",
    "    else:\n",
    "        return True\n",
    "    \n",
    "\n",
    "\n",
    "    "
   ]
  },
  {
   "cell_type": "markdown",
   "metadata": {},
   "source": [
    "Then we pass the function to applymap method as in code blow"
   ]
  },
  {
   "cell_type": "code",
   "execution_count": 24,
   "metadata": {},
   "outputs": [],
   "source": [
    "factors_tafe_dissatisfaction = ['Contributing Factors. Dissatisfaction', 'Contributing Factors. Job Dissatisfaction']\n",
    "\n",
    "tafe_resignations[factors_tafe_dissatisfaction] = tafe_resignations[factors_tafe_dissatisfaction].applymap(update_vals)\n"
   ]
  },
  {
   "cell_type": "markdown",
   "metadata": {},
   "source": [
    "We can see the changes for `Contributing Factors. Dissatisfaction` column"
   ]
  },
  {
   "cell_type": "code",
   "execution_count": 25,
   "metadata": {},
   "outputs": [
    {
     "data": {
      "text/plain": [
       "False    277\n",
       "True      55\n",
       "Name: Contributing Factors. Dissatisfaction, dtype: int64"
      ]
     },
     "execution_count": 25,
     "metadata": {},
     "output_type": "execute_result"
    }
   ],
   "source": [
    "tafe_resignations['Contributing Factors. Dissatisfaction'].value_counts()"
   ]
  },
  {
   "cell_type": "markdown",
   "metadata": {},
   "source": [
    "And the changes for `Contributing Factors. Job Dissatisfaction` column for tafe data set"
   ]
  },
  {
   "cell_type": "code",
   "execution_count": 26,
   "metadata": {},
   "outputs": [
    {
     "data": {
      "text/plain": [
       "False    270\n",
       "True      62\n",
       "Name: Contributing Factors. Job Dissatisfaction, dtype: int64"
      ]
     },
     "execution_count": 26,
     "metadata": {},
     "output_type": "execute_result"
    }
   ],
   "source": [
    "tafe_resignations['Contributing Factors. Job Dissatisfaction'].value_counts()"
   ]
  },
  {
   "cell_type": "markdown",
   "metadata": {},
   "source": [
    "now we are going to use df.any() method to creat a new column `dissatisfied`. as in code blow"
   ]
  },
  {
   "cell_type": "code",
   "execution_count": 27,
   "metadata": {},
   "outputs": [],
   "source": [
    "tafe_resignations['dissatisfied'] = tafe_resignations[factors_tafe_dissatisfaction].any(axis=1, skipna=False)\n",
    "tafe_resignations_up = tafe_resignations.copy() "
   ]
  },
  {
   "cell_type": "code",
   "execution_count": 28,
   "metadata": {},
   "outputs": [
    {
     "data": {
      "text/plain": [
       "False    241\n",
       "True      91\n",
       "Name: dissatisfied, dtype: int64"
      ]
     },
     "execution_count": 28,
     "metadata": {},
     "output_type": "execute_result"
    }
   ],
   "source": [
    "tafe_resignations_up['dissatisfied'].value_counts()"
   ]
  },
  {
   "cell_type": "markdown",
   "metadata": {},
   "source": [
    "As you can see there are 91 employee that resigned because of dissatisfaction in some way in tafe data set.\n",
    "\n",
    "Now we are going to identify dissatisfaction for dete data set in this data set we are goinf to use blow data sets to imply dissatisfaction and we are going to do same approaches as we did for tafe data set\n",
    "\n",
    "Columns used for dissatisfaction identification:\n",
    "\n",
    "`job_dissatisfaction`                    \n",
    "`dissatisfaction_with_the_department`             \n",
    "`physical_work_environment`             \n",
    "`lack_of_recognition`               \n",
    "`lack_of_job_security`                 \n",
    "`work_location`               \n",
    "`employment_conditions`                  \n",
    "`work_life_balance`                 \n",
    "`workload`                  \n",
    "\n",
    "But if we look at some we will know that in this data set the values are True or False so we don't need to change them \n",
    "\n",
    "For example:\n"
   ]
  },
  {
   "cell_type": "code",
   "execution_count": 29,
   "metadata": {},
   "outputs": [
    {
     "data": {
      "text/plain": [
       "False    270\n",
       "True      41\n",
       "Name: job_dissatisfaction, dtype: int64"
      ]
     },
     "execution_count": 29,
     "metadata": {},
     "output_type": "execute_result"
    }
   ],
   "source": [
    "dete_resignations['job_dissatisfaction'].value_counts()"
   ]
  },
  {
   "cell_type": "markdown",
   "metadata": {},
   "source": [
    "we only need to creat new column of `dissatisfied` by using any() method"
   ]
  },
  {
   "cell_type": "code",
   "execution_count": 30,
   "metadata": {},
   "outputs": [
    {
     "data": {
      "text/plain": [
       "False    162\n",
       "True     149\n",
       "Name: dissatisfied, dtype: int64"
      ]
     },
     "execution_count": 30,
     "metadata": {},
     "output_type": "execute_result"
    }
   ],
   "source": [
    "factors_dete_dissatisfaction =['job_dissatisfaction',\n",
    "'dissatisfaction_with_the_department',\n",
    "'physical_work_environment',\n",
    "'lack_of_recognition',\n",
    "'lack_of_job_security',\n",
    "'work_location',\n",
    "'employment_conditions',\n",
    "'work_life_balance',\n",
    "'workload'\n",
    "]\n",
    "\n",
    "dete_resignations['dissatisfied'] = dete_resignations[factors_dete_dissatisfaction].any(axis = 1, skipna = False)\n",
    "dete_resignations_up = dete_resignations.copy()\n",
    "dete_resignations_up['dissatisfied'].value_counts()"
   ]
  },
  {
   "cell_type": "markdown",
   "metadata": {},
   "source": [
    "AS we can see in above there are 149 employee in dete data set that resigned because of dissatisfaction.\n",
    "\n",
    "## Combining the data\n",
    "\n",
    "Now it is the time to combine data sets.\n",
    "\n",
    "we are going to add a column to each data frame named `institute`  witch for dete_resignations_up is `DETE` and for tafe_resignations_up is `TAFE` to make both of them distingushible in combined datafarme\n"
   ]
  },
  {
   "cell_type": "code",
   "execution_count": 31,
   "metadata": {},
   "outputs": [],
   "source": [
    "dete_resignations_up['institute'] = 'DETE'\n",
    "tafe_resignations_up['institute'] = 'TAFE'"
   ]
  },
  {
   "cell_type": "markdown",
   "metadata": {},
   "source": [
    "Now in the code blow we are going to combine two data sets"
   ]
  },
  {
   "cell_type": "code",
   "execution_count": 32,
   "metadata": {},
   "outputs": [
    {
     "name": "stderr",
     "output_type": "stream",
     "text": [
      "c:\\users\\alinasr\\miniconda3\\lib\\site-packages\\ipykernel_launcher.py:1: FutureWarning: Sorting because non-concatenation axis is not aligned. A future version\n",
      "of pandas will change to not sort by default.\n",
      "\n",
      "To accept the future behavior, pass 'sort=False'.\n",
      "\n",
      "To retain the current behavior and silence the warning, pass 'sort=True'.\n",
      "\n",
      "  \"\"\"Entry point for launching an IPython kernel.\n"
     ]
    },
    {
     "data": {
      "text/html": [
       "<div>\n",
       "<style scoped>\n",
       "    .dataframe tbody tr th:only-of-type {\n",
       "        vertical-align: middle;\n",
       "    }\n",
       "\n",
       "    .dataframe tbody tr th {\n",
       "        vertical-align: top;\n",
       "    }\n",
       "\n",
       "    .dataframe thead th {\n",
       "        text-align: right;\n",
       "    }\n",
       "</style>\n",
       "<table border=\"1\" class=\"dataframe\">\n",
       "  <thead>\n",
       "    <tr style=\"text-align: right;\">\n",
       "      <th></th>\n",
       "      <th>Contributing Factors. Career Move - Private Sector</th>\n",
       "      <th>Contributing Factors. Career Move - Public Sector</th>\n",
       "      <th>Contributing Factors. Career Move - Self-employment</th>\n",
       "      <th>Contributing Factors. Dissatisfaction</th>\n",
       "      <th>Contributing Factors. Ill Health</th>\n",
       "      <th>Contributing Factors. Interpersonal Conflict</th>\n",
       "      <th>Contributing Factors. Job Dissatisfaction</th>\n",
       "      <th>Contributing Factors. Maternity/Family</th>\n",
       "      <th>Contributing Factors. NONE</th>\n",
       "      <th>Contributing Factors. Other</th>\n",
       "      <th>...</th>\n",
       "      <th>role_service</th>\n",
       "      <th>role_start_date</th>\n",
       "      <th>separationtype</th>\n",
       "      <th>south_sea</th>\n",
       "      <th>study/travel</th>\n",
       "      <th>torres_strait</th>\n",
       "      <th>traumatic_incident</th>\n",
       "      <th>work_life_balance</th>\n",
       "      <th>work_location</th>\n",
       "      <th>workload</th>\n",
       "    </tr>\n",
       "  </thead>\n",
       "  <tbody>\n",
       "    <tr>\n",
       "      <th>0</th>\n",
       "      <td>NaN</td>\n",
       "      <td>NaN</td>\n",
       "      <td>NaN</td>\n",
       "      <td>NaN</td>\n",
       "      <td>NaN</td>\n",
       "      <td>NaN</td>\n",
       "      <td>NaN</td>\n",
       "      <td>NaN</td>\n",
       "      <td>NaN</td>\n",
       "      <td>NaN</td>\n",
       "      <td>...</td>\n",
       "      <td>NaN</td>\n",
       "      <td>2006.0</td>\n",
       "      <td>Resignation-Other reasons</td>\n",
       "      <td>NaN</td>\n",
       "      <td>False</td>\n",
       "      <td>NaN</td>\n",
       "      <td>False</td>\n",
       "      <td>False</td>\n",
       "      <td>False</td>\n",
       "      <td>False</td>\n",
       "    </tr>\n",
       "    <tr>\n",
       "      <th>1</th>\n",
       "      <td>NaN</td>\n",
       "      <td>NaN</td>\n",
       "      <td>NaN</td>\n",
       "      <td>NaN</td>\n",
       "      <td>NaN</td>\n",
       "      <td>NaN</td>\n",
       "      <td>NaN</td>\n",
       "      <td>NaN</td>\n",
       "      <td>NaN</td>\n",
       "      <td>NaN</td>\n",
       "      <td>...</td>\n",
       "      <td>NaN</td>\n",
       "      <td>1997.0</td>\n",
       "      <td>Resignation-Other reasons</td>\n",
       "      <td>NaN</td>\n",
       "      <td>False</td>\n",
       "      <td>NaN</td>\n",
       "      <td>False</td>\n",
       "      <td>False</td>\n",
       "      <td>False</td>\n",
       "      <td>False</td>\n",
       "    </tr>\n",
       "    <tr>\n",
       "      <th>2</th>\n",
       "      <td>NaN</td>\n",
       "      <td>NaN</td>\n",
       "      <td>NaN</td>\n",
       "      <td>NaN</td>\n",
       "      <td>NaN</td>\n",
       "      <td>NaN</td>\n",
       "      <td>NaN</td>\n",
       "      <td>NaN</td>\n",
       "      <td>NaN</td>\n",
       "      <td>NaN</td>\n",
       "      <td>...</td>\n",
       "      <td>NaN</td>\n",
       "      <td>2009.0</td>\n",
       "      <td>Resignation-Other reasons</td>\n",
       "      <td>NaN</td>\n",
       "      <td>False</td>\n",
       "      <td>NaN</td>\n",
       "      <td>False</td>\n",
       "      <td>False</td>\n",
       "      <td>False</td>\n",
       "      <td>False</td>\n",
       "    </tr>\n",
       "    <tr>\n",
       "      <th>3</th>\n",
       "      <td>NaN</td>\n",
       "      <td>NaN</td>\n",
       "      <td>NaN</td>\n",
       "      <td>NaN</td>\n",
       "      <td>NaN</td>\n",
       "      <td>NaN</td>\n",
       "      <td>NaN</td>\n",
       "      <td>NaN</td>\n",
       "      <td>NaN</td>\n",
       "      <td>NaN</td>\n",
       "      <td>...</td>\n",
       "      <td>NaN</td>\n",
       "      <td>2008.0</td>\n",
       "      <td>Resignation-Other employer</td>\n",
       "      <td>NaN</td>\n",
       "      <td>False</td>\n",
       "      <td>NaN</td>\n",
       "      <td>False</td>\n",
       "      <td>False</td>\n",
       "      <td>False</td>\n",
       "      <td>False</td>\n",
       "    </tr>\n",
       "    <tr>\n",
       "      <th>4</th>\n",
       "      <td>NaN</td>\n",
       "      <td>NaN</td>\n",
       "      <td>NaN</td>\n",
       "      <td>NaN</td>\n",
       "      <td>NaN</td>\n",
       "      <td>NaN</td>\n",
       "      <td>NaN</td>\n",
       "      <td>NaN</td>\n",
       "      <td>NaN</td>\n",
       "      <td>NaN</td>\n",
       "      <td>...</td>\n",
       "      <td>NaN</td>\n",
       "      <td>2009.0</td>\n",
       "      <td>Resignation-Move overseas/interstate</td>\n",
       "      <td>NaN</td>\n",
       "      <td>False</td>\n",
       "      <td>NaN</td>\n",
       "      <td>False</td>\n",
       "      <td>False</td>\n",
       "      <td>False</td>\n",
       "      <td>False</td>\n",
       "    </tr>\n",
       "  </tbody>\n",
       "</table>\n",
       "<p>5 rows × 53 columns</p>\n",
       "</div>"
      ],
      "text/plain": [
       "  Contributing Factors. Career Move - Private Sector   \\\n",
       "0                                                NaN    \n",
       "1                                                NaN    \n",
       "2                                                NaN    \n",
       "3                                                NaN    \n",
       "4                                                NaN    \n",
       "\n",
       "  Contributing Factors. Career Move - Public Sector   \\\n",
       "0                                                NaN   \n",
       "1                                                NaN   \n",
       "2                                                NaN   \n",
       "3                                                NaN   \n",
       "4                                                NaN   \n",
       "\n",
       "  Contributing Factors. Career Move - Self-employment  \\\n",
       "0                                                NaN    \n",
       "1                                                NaN    \n",
       "2                                                NaN    \n",
       "3                                                NaN    \n",
       "4                                                NaN    \n",
       "\n",
       "  Contributing Factors. Dissatisfaction Contributing Factors. Ill Health  \\\n",
       "0                                   NaN                              NaN   \n",
       "1                                   NaN                              NaN   \n",
       "2                                   NaN                              NaN   \n",
       "3                                   NaN                              NaN   \n",
       "4                                   NaN                              NaN   \n",
       "\n",
       "  Contributing Factors. Interpersonal Conflict  \\\n",
       "0                                          NaN   \n",
       "1                                          NaN   \n",
       "2                                          NaN   \n",
       "3                                          NaN   \n",
       "4                                          NaN   \n",
       "\n",
       "  Contributing Factors. Job Dissatisfaction  \\\n",
       "0                                       NaN   \n",
       "1                                       NaN   \n",
       "2                                       NaN   \n",
       "3                                       NaN   \n",
       "4                                       NaN   \n",
       "\n",
       "  Contributing Factors. Maternity/Family Contributing Factors. NONE  \\\n",
       "0                                    NaN                        NaN   \n",
       "1                                    NaN                        NaN   \n",
       "2                                    NaN                        NaN   \n",
       "3                                    NaN                        NaN   \n",
       "4                                    NaN                        NaN   \n",
       "\n",
       "  Contributing Factors. Other  ... role_service role_start_date  \\\n",
       "0                         NaN  ...          NaN          2006.0   \n",
       "1                         NaN  ...          NaN          1997.0   \n",
       "2                         NaN  ...          NaN          2009.0   \n",
       "3                         NaN  ...          NaN          2008.0   \n",
       "4                         NaN  ...          NaN          2009.0   \n",
       "\n",
       "                         separationtype south_sea study/travel torres_strait  \\\n",
       "0             Resignation-Other reasons       NaN        False           NaN   \n",
       "1             Resignation-Other reasons       NaN        False           NaN   \n",
       "2             Resignation-Other reasons       NaN        False           NaN   \n",
       "3            Resignation-Other employer       NaN        False           NaN   \n",
       "4  Resignation-Move overseas/interstate       NaN        False           NaN   \n",
       "\n",
       "  traumatic_incident work_life_balance work_location  workload  \n",
       "0              False             False         False     False  \n",
       "1              False             False         False     False  \n",
       "2              False             False         False     False  \n",
       "3              False             False         False     False  \n",
       "4              False             False         False     False  \n",
       "\n",
       "[5 rows x 53 columns]"
      ]
     },
     "execution_count": 32,
     "metadata": {},
     "output_type": "execute_result"
    }
   ],
   "source": [
    "combined = pd.concat([dete_resignations_up, tafe_resignations_up], ignore_index = True)\n",
    "combined.head()"
   ]
  },
  {
   "cell_type": "markdown",
   "metadata": {},
   "source": [
    "## Dropping missing values \n",
    "\n",
    "In this part we are going to deal with missing values. First we are going to see number of missing values in each column by the code blow\n"
   ]
  },
  {
   "cell_type": "code",
   "execution_count": 33,
   "metadata": {},
   "outputs": [
    {
     "data": {
      "text/plain": [
       "Contributing Factors. Career Move - Private Sector     332\n",
       "Contributing Factors. Career Move - Public Sector      332\n",
       "Contributing Factors. Career Move - Self-employment    332\n",
       "Contributing Factors. Dissatisfaction                  332\n",
       "Contributing Factors. Ill Health                       332\n",
       "Contributing Factors. Interpersonal Conflict           332\n",
       "Contributing Factors. Job Dissatisfaction              332\n",
       "Contributing Factors. Maternity/Family                 332\n",
       "Contributing Factors. NONE                             332\n",
       "Contributing Factors. Other                            332\n",
       "Contributing Factors. Study                            332\n",
       "Contributing Factors. Travel                           332\n",
       "Institute                                              340\n",
       "WorkArea                                               340\n",
       "aboriginal                                               7\n",
       "age                                                    596\n",
       "business_unit                                           32\n",
       "career_move_to_private_sector                          311\n",
       "career_move_to_public_sector                           311\n",
       "cease_date                                             635\n",
       "classification                                         161\n",
       "dete_start_date                                        283\n",
       "disability                                               8\n",
       "dissatisfaction_with_the_department                    311\n",
       "dissatisfied                                           643\n",
       "employment_conditions                                  311\n",
       "employment_status                                      597\n",
       "gender                                                 592\n",
       "id                                                     651\n",
       "ill_health                                             311\n",
       "institute                                              651\n",
       "institute_service                                      563\n",
       "interpersonal_conflicts                                311\n",
       "job_dissatisfaction                                    311\n",
       "lack_of_job_security                                   311\n",
       "lack_of_recognition                                    311\n",
       "maternity/family                                       311\n",
       "nesb                                                     9\n",
       "none_of_the_above                                      311\n",
       "physical_work_environment                              311\n",
       "position                                               598\n",
       "region                                                 265\n",
       "relocation                                             311\n",
       "role_service                                           290\n",
       "role_start_date                                        271\n",
       "separationtype                                         651\n",
       "south_sea                                                3\n",
       "study/travel                                           311\n",
       "torres_strait                                            0\n",
       "traumatic_incident                                     311\n",
       "work_life_balance                                      311\n",
       "work_location                                          311\n",
       "workload                                               311\n",
       "dtype: int64"
      ]
     },
     "execution_count": 33,
     "metadata": {},
     "output_type": "execute_result"
    }
   ],
   "source": [
    "combined.notnull().sum()"
   ]
  },
  {
   "cell_type": "markdown",
   "metadata": {},
   "source": [
    "For this task we are going to drop columns with more than 500 missing values. Then we are going to filter columns with 151 or less non null values.\n",
    "\n",
    "in the code blow we ae going to drop these columns\n"
   ]
  },
  {
   "cell_type": "code",
   "execution_count": 34,
   "metadata": {},
   "outputs": [],
   "source": [
    "combined_update = combined.dropna(thresh = 151, axis = 1).copy()"
   ]
  },
  {
   "cell_type": "markdown",
   "metadata": {},
   "source": [
    "lets check the number of missing values in combined_update dataframe"
   ]
  },
  {
   "cell_type": "code",
   "execution_count": 35,
   "metadata": {},
   "outputs": [
    {
     "data": {
      "text/plain": [
       "Contributing Factors. Career Move - Private Sector     319\n",
       "Contributing Factors. Career Move - Public Sector      319\n",
       "Contributing Factors. Career Move - Self-employment    319\n",
       "Contributing Factors. Dissatisfaction                  319\n",
       "Contributing Factors. Ill Health                       319\n",
       "Contributing Factors. Interpersonal Conflict           319\n",
       "Contributing Factors. Job Dissatisfaction              319\n",
       "Contributing Factors. Maternity/Family                 319\n",
       "Contributing Factors. NONE                             319\n",
       "Contributing Factors. Other                            319\n",
       "Contributing Factors. Study                            319\n",
       "Contributing Factors. Travel                           319\n",
       "Institute                                              311\n",
       "WorkArea                                               311\n",
       "age                                                     55\n",
       "career_move_to_private_sector                          340\n",
       "career_move_to_public_sector                           340\n",
       "cease_date                                              16\n",
       "classification                                         490\n",
       "dete_start_date                                        368\n",
       "dissatisfaction_with_the_department                    340\n",
       "dissatisfied                                             8\n",
       "employment_conditions                                  340\n",
       "employment_status                                       54\n",
       "gender                                                  59\n",
       "id                                                       0\n",
       "ill_health                                             340\n",
       "institute                                                0\n",
       "institute_service                                       88\n",
       "interpersonal_conflicts                                340\n",
       "job_dissatisfaction                                    340\n",
       "lack_of_job_security                                   340\n",
       "lack_of_recognition                                    340\n",
       "maternity/family                                       340\n",
       "none_of_the_above                                      340\n",
       "physical_work_environment                              340\n",
       "position                                                53\n",
       "region                                                 386\n",
       "relocation                                             340\n",
       "role_service                                           361\n",
       "role_start_date                                        380\n",
       "separationtype                                           0\n",
       "study/travel                                           340\n",
       "traumatic_incident                                     340\n",
       "work_life_balance                                      340\n",
       "work_location                                          340\n",
       "workload                                               340\n",
       "dtype: int64"
      ]
     },
     "execution_count": 35,
     "metadata": {},
     "output_type": "execute_result"
    }
   ],
   "source": [
    "combined_update.isnull().sum()"
   ]
  },
  {
   "cell_type": "markdown",
   "metadata": {},
   "source": [
    "As you can see there is no column with more than 500 missing values\n",
    "\n",
    "## Cleaning the service column\n",
    "\n",
    "In this part we are going to first extract numbers from this column then categorize them and assign them to new column named `service_cat`.\n",
    "\n",
    "We are going to use the definition blow for categorizing\n",
    "\n",
    "New: Less than 3 years at a company\n",
    "\n",
    "Experienced: 3-6 years at a company\n",
    "\n",
    "Established: 7-10 years at a company\n",
    "\n",
    "Veteran: 11 or more years at a company\n",
    "\n",
    "First lets convert each value in `institute_service` column to string then extract numbers then convert to float as in code blow\n"
   ]
  },
  {
   "cell_type": "code",
   "execution_count": 36,
   "metadata": {},
   "outputs": [
    {
     "data": {
      "text/plain": [
       "1.0     159\n",
       "3.0      83\n",
       "5.0      56\n",
       "7.0      34\n",
       "11.0     30\n",
       "0.0      20\n",
       "20.0     17\n",
       "6.0      17\n",
       "4.0      16\n",
       "9.0      14\n",
       "2.0      14\n",
       "13.0      8\n",
       "8.0       8\n",
       "15.0      7\n",
       "17.0      6\n",
       "10.0      6\n",
       "12.0      6\n",
       "14.0      6\n",
       "22.0      6\n",
       "16.0      5\n",
       "18.0      5\n",
       "24.0      4\n",
       "23.0      4\n",
       "39.0      3\n",
       "19.0      3\n",
       "21.0      3\n",
       "32.0      3\n",
       "28.0      2\n",
       "36.0      2\n",
       "25.0      2\n",
       "30.0      2\n",
       "26.0      2\n",
       "29.0      1\n",
       "38.0      1\n",
       "42.0      1\n",
       "27.0      1\n",
       "41.0      1\n",
       "35.0      1\n",
       "49.0      1\n",
       "34.0      1\n",
       "33.0      1\n",
       "31.0      1\n",
       "Name: institute_service_num, dtype: int64"
      ]
     },
     "execution_count": 36,
     "metadata": {},
     "output_type": "execute_result"
    }
   ],
   "source": [
    "combined_update['institute_service_num'] = combined_update['institute_service'].astype('str').str.extract(r\"(\\d+)\")\n",
    "\n",
    "combined_update['institute_service_num'] = combined_update['institute_service_num'].astype('float')\n",
    "\n",
    "combined_update['institute_service_num'].value_counts()"
   ]
  },
  {
   "cell_type": "markdown",
   "metadata": {},
   "source": [
    "Now we are going to define a function to categorize numbers as we mentioned before then apply it to `institute_service_num` and assign it to new `service_cat` column"
   ]
  },
  {
   "cell_type": "code",
   "execution_count": 37,
   "metadata": {},
   "outputs": [
    {
     "data": {
      "text/plain": [
       "New            193\n",
       "Experienced    155\n",
       "Veteran        142\n",
       "Established     73\n",
       "Name: service_cat, dtype: int64"
      ]
     },
     "execution_count": 37,
     "metadata": {},
     "output_type": "execute_result"
    }
   ],
   "source": [
    "def categorize(val):\n",
    "    if pd.isnull(val):\n",
    "        return np.nan\n",
    "    elif val < 3:\n",
    "        return 'New'\n",
    "    elif 3 <= val < 6:\n",
    "        return 'Experienced'\n",
    "    elif 6 <= val < 10:\n",
    "        return 'Established'\n",
    "    elif val >= 10:\n",
    "        return 'Veteran'\n",
    "  \n",
    "combined_update['service_cat'] = combined_update['institute_service_num'].apply(categorize)\n",
    "\n",
    "combined_update['service_cat'].value_counts()"
   ]
  },
  {
   "cell_type": "markdown",
   "metadata": {},
   "source": [
    "## Analyzing the data\n",
    "\n",
    "In this part we are going to do our final analysis and show results\n",
    "    But first we need to deal with some missing data in `dissatisfied` column as you can see there is 8 missing data\n"
   ]
  },
  {
   "cell_type": "code",
   "execution_count": 38,
   "metadata": {},
   "outputs": [
    {
     "data": {
      "text/plain": [
       "False    403\n",
       "True     240\n",
       "NaN        8\n",
       "Name: dissatisfied, dtype: int64"
      ]
     },
     "execution_count": 38,
     "metadata": {},
     "output_type": "execute_result"
    }
   ],
   "source": [
    "combined_update['dissatisfied'].value_counts(dropna = False)"
   ]
  },
  {
   "cell_type": "markdown",
   "metadata": {},
   "source": [
    "To deal with this 8 missing we are going to replace these values with the value that occurs most frequently in this column True or False"
   ]
  },
  {
   "cell_type": "code",
   "execution_count": 39,
   "metadata": {},
   "outputs": [
    {
     "data": {
      "text/plain": [
       "False    411\n",
       "True     240\n",
       "Name: dissatisfied, dtype: int64"
      ]
     },
     "execution_count": 39,
     "metadata": {},
     "output_type": "execute_result"
    }
   ],
   "source": [
    "combined_update['dissatisfied'] = combined_update['dissatisfied'].fillna(False)\n",
    "combined_update['dissatisfied'].value_counts(dropna = False)"
   ]
  },
  {
   "cell_type": "markdown",
   "metadata": {},
   "source": [
    "Now it is the time to calculate the dissatisfied employees in each `service_cat` group\n",
    "\n",
    "We are going to use pivot_table() method\n",
    "\n",
    "True values are going to be considered 1 and false values considered 0 by calculating mean we could have the percentage.\n"
   ]
  },
  {
   "cell_type": "code",
   "execution_count": 40,
   "metadata": {},
   "outputs": [
    {
     "data": {
      "text/html": [
       "<div>\n",
       "<style scoped>\n",
       "    .dataframe tbody tr th:only-of-type {\n",
       "        vertical-align: middle;\n",
       "    }\n",
       "\n",
       "    .dataframe tbody tr th {\n",
       "        vertical-align: top;\n",
       "    }\n",
       "\n",
       "    .dataframe thead th {\n",
       "        text-align: right;\n",
       "    }\n",
       "</style>\n",
       "<table border=\"1\" class=\"dataframe\">\n",
       "  <thead>\n",
       "    <tr style=\"text-align: right;\">\n",
       "      <th></th>\n",
       "      <th>dissatisfied</th>\n",
       "    </tr>\n",
       "    <tr>\n",
       "      <th>service_cat</th>\n",
       "      <th></th>\n",
       "    </tr>\n",
       "  </thead>\n",
       "  <tbody>\n",
       "    <tr>\n",
       "      <th>Established</th>\n",
       "      <td>0.561644</td>\n",
       "    </tr>\n",
       "    <tr>\n",
       "      <th>Experienced</th>\n",
       "      <td>0.316129</td>\n",
       "    </tr>\n",
       "    <tr>\n",
       "      <th>New</th>\n",
       "      <td>0.295337</td>\n",
       "    </tr>\n",
       "    <tr>\n",
       "      <th>Veteran</th>\n",
       "      <td>0.471831</td>\n",
       "    </tr>\n",
       "  </tbody>\n",
       "</table>\n",
       "</div>"
      ],
      "text/plain": [
       "             dissatisfied\n",
       "service_cat              \n",
       "Established      0.561644\n",
       "Experienced      0.316129\n",
       "New              0.295337\n",
       "Veteran          0.471831"
      ]
     },
     "execution_count": 40,
     "metadata": {},
     "output_type": "execute_result"
    }
   ],
   "source": [
    "pv_dissatisfied = combined_update.pivot_table(values = 'dissatisfied', index = 'service_cat')\n",
    "pv_dissatisfied"
   ]
  },
  {
   "cell_type": "markdown",
   "metadata": {},
   "source": [
    "Let's plot the above table in  a bar plot using matplotlib"
   ]
  },
  {
   "cell_type": "code",
   "execution_count": 41,
   "metadata": {},
   "outputs": [
    {
     "data": {
      "text/plain": [
       "<matplotlib.axes._subplots.AxesSubplot at 0x19ee4e427b8>"
      ]
     },
     "execution_count": 41,
     "metadata": {},
     "output_type": "execute_result"
    },
    {
     "data": {
      "image/png": "[encoded data removed]",
      "text/plain": [
       "<Figure size 432x288 with 1 Axes>"
      ]
     },
     "metadata": {
      "needs_background": "light"
     },
     "output_type": "display_data"
    }
   ],
   "source": [
    "%matplotlib inline\n",
    "pv_dissatisfied.plot(kind ='bar')"
   ]
  },
  {
   "cell_type": "markdown",
   "metadata": {},
   "source": [
    "### First question\n",
    "\n",
    "lets remind the first question:\n",
    "\n",
    "Are employees who only worked for the institutes for a short period of time resigning due to some kind of dissatisfaction? What about employees who have been there longer?\n",
    "\n",
    "now we can answer this question\n",
    "\n",
    "As you can see  epmployees who worked for long time rsinging due to some kind of dissatisfaction more than employess who worked short period of time"
   ]
  },
  {
   "cell_type": "markdown",
   "metadata": {},
   "source": [
    "### Second question\n",
    "\n",
    "The second question was:\n",
    "\n",
    "Are younger employees resigning due to some kind of dissatisfaction? What about older employees?\n",
    "\n",
    "*\"This project is ongoing project and we will add the rest of it as soon as possible\"*\n"
   ]
  }
 ],
 "metadata": {
  "kernelspec": {
   "display_name": "Python 3",
   "language": "python",
   "name": "python3"
  },
  "language_info": {
   "codemirror_mode": {
    "name": "ipython",
    "version": 3
   },
   "file_extension": ".py",
   "mimetype": "text/x-python",
   "name": "python",
   "nbconvert_exporter": "python",
   "pygments_lexer": "ipython3",
   "version": "3.6.5"
  }
 },
 "nbformat": 4,
 "nbformat_minor": 2
}
